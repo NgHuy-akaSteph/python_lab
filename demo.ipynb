{
  "nbformat": 4,
  "nbformat_minor": 0,
  "metadata": {
    "colab": {
      "provenance": [],
      "authorship_tag": "ABX9TyO1SkghQ3d4qlOwiv2/jpLd",
      "include_colab_link": true
    },
    "kernelspec": {
      "name": "python3",
      "display_name": "Python 3"
    },
    "language_info": {
      "name": "python"
    }
  },
  "cells": [
    {
      "cell_type": "markdown",
      "metadata": {
        "id": "view-in-github",
        "colab_type": "text"
      },
      "source": [
        "<a href=\"https://colab.research.google.com/github/NgHuy-akaSteph/python_lab/blob/main/demo.ipynb\" target=\"_parent\"><img src=\"https://colab.research.google.com/assets/colab-badge.svg\" alt=\"Open In Colab\"/></a>"
      ]
    },
    {
      "cell_type": "code",
      "execution_count": 5,
      "metadata": {
        "colab": {
          "base_uri": "https://localhost:8080/"
        },
        "id": "McjRUL5ZjVSK",
        "outputId": "c651f036-1f75-4547-bd57-09429b74fd57"
      },
      "outputs": [
        {
          "output_type": "stream",
          "name": "stdout",
          "text": [
            "Hello World!\n",
            "Day la dong thu 0\n",
            "Day la dong thu 1\n",
            "Day la dong thu 2\n",
            "Day la dong thu 3\n",
            "Day la dong thu 4\n",
            "Day la dong thu 5\n"
          ]
        }
      ],
      "source": [
        "print(\"Hello World!\")\n",
        "\n",
        "for i in range(6):\n",
        "  print('Day la dong thu', i)"
      ]
    }
  ]
}